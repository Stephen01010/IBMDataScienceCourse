{
 "cells": [
  {
   "cell_type": "markdown",
   "id": "7cd3fea5-e7f0-4dd0-b111-7ca4cb9a0ccd",
   "metadata": {},
   "source": [
    "# Data Science Tools and Ecosystem"
   ]
  },
  {
   "cell_type": "markdown",
   "id": "79b6e5d8-7623-4fad-bf50-03f852c2c5d0",
   "metadata": {},
   "source": [
    "## Author\n",
    "Stephen Palmier"
   ]
  },
  {
   "cell_type": "markdown",
   "id": "19bb5231-48ec-4a80-a8d4-18baa291127e",
   "metadata": {
    "tags": []
   },
   "source": [
    "In this notebook, Data science Tools and Ecosystem are summarized."
   ]
  },
  {
   "cell_type": "markdown",
   "id": "9a4a41ae-7754-4469-9ebf-7f134ac33697",
   "metadata": {},
   "source": [
    "**Objectives:**\n",
    "- List popular languages that data scientists use\n",
    "- List commonly used languages that data scientists use\n",
    "- Identify commonly used development environments used in data science\n",
    "- Demonstrate basic arithmetic expressions in Python"
   ]
  },
  {
   "cell_type": "markdown",
   "id": "dd594d25-571f-4e49-a784-d43d0bdaa303",
   "metadata": {},
   "source": [
    "Some of the popular languages that Data Scientists include:\n",
    "1. Python\n",
    "2. SQL\n",
    "3. R\n",
    "4. Scala\n",
    "5. Julia\n",
    "6. Java"
   ]
  },
  {
   "cell_type": "markdown",
   "id": "44050c65-6736-47c8-b9c3-aade2de369bc",
   "metadata": {},
   "source": [
    "Some of the commonly used libraries used by Data Scientists include:\n",
    "1. Pandas\n",
    "2. Matplotlib\n",
    "3. TensorFlow\n",
    "4. ggplot2\n",
    "5. Caret\n",
    "6. dplyr"
   ]
  },
  {
   "cell_type": "markdown",
   "id": "253da055-a5af-4154-8681-cbd5792fe209",
   "metadata": {},
   "source": [
    "|Data Science Tools|\n",
    "|------------------|\n",
    "|JupyterLab|\n",
    "|R Studio|\n",
    "|Spyder|"
   ]
  },
  {
   "cell_type": "markdown",
   "id": "32371d57-48a4-4a1d-86f7-c97460ea5417",
   "metadata": {},
   "source": [
    "### Below are a few examples of evaluating arithmetic expression in Python"
   ]
  },
  {
   "cell_type": "code",
   "execution_count": 13,
   "id": "e817c356-a6bb-4174-9d43-a23fb2b93e18",
   "metadata": {
    "tags": []
   },
   "outputs": [
    {
     "data": {
      "text/plain": [
       "17"
      ]
     },
     "execution_count": 13,
     "metadata": {},
     "output_type": "execute_result"
    }
   ],
   "source": [
    "# This is a simple arithmetic expression to multiply then add integers.\n",
    "(3*4) + 5"
   ]
  },
  {
   "cell_type": "code",
   "execution_count": 23,
   "id": "d0bb5bbb-af1c-4445-a2fc-3eaa16439a77",
   "metadata": {
    "tags": []
   },
   "outputs": [
    {
     "name": "stdout",
     "output_type": "stream",
     "text": [
      "3hrs, 20mins\n"
     ]
    }
   ],
   "source": [
    "# This will convert 200 minutes to hours by dividing by 60\n",
    "mins = 200\n",
    "hours, rem_mins = divmod(mins, 60)\n",
    "print(f\"{hours}hrs, {rem_mins}mins\")"
   ]
  }
 ],
 "metadata": {
  "kernelspec": {
   "display_name": "Python 3 (ipykernel)",
   "language": "python",
   "name": "python3"
  },
  "language_info": {
   "codemirror_mode": {
    "name": "ipython",
    "version": 3
   },
   "file_extension": ".py",
   "mimetype": "text/x-python",
   "name": "python",
   "nbconvert_exporter": "python",
   "pygments_lexer": "ipython3",
   "version": "3.11.7"
  }
 },
 "nbformat": 4,
 "nbformat_minor": 5
}
